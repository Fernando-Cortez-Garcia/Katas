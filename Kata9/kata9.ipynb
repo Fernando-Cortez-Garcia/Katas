{
 "cells": [
  {
   "cell_type": "markdown",
   "metadata": {},
   "source": [
    "# Ejercicio: uso de funciones en Python"
   ]
  },
  {
   "cell_type": "markdown",
   "metadata": {},
   "source": [
    " Ejercicio1: Trabajar con argumentos en funciones"
   ]
  },
  {
   "cell_type": "code",
   "execution_count": 21,
   "metadata": {},
   "outputs": [
    {
     "data": {
      "text/plain": [
       "'Reporte:\\n    ------------------------------\\n    Tanque 1: 10%\\n    Tanque 2: 20%\\n    Tanque 3: 30%'"
      ]
     },
     "execution_count": 21,
     "metadata": {},
     "output_type": "execute_result"
    }
   ],
   "source": [
    "#Funcion para calcular 3 tanques de combustible y mustre el promedio.\n",
    "def total_T(T1,T2,T3):\n",
    "    return f\"\"\"Reporte:\n",
    "    {'-'*30}\n",
    "    Tanque 1: {T1}%\n",
    "    Tanque 2: {T2}%\n",
    "    Tanque 3: {T3}%\"\"\"\n",
    "\n",
    "total_T(10,20,30)"
   ]
  },
  {
   "cell_type": "markdown",
   "metadata": {},
   "source": [
    "funcion promedio"
   ]
  },
  {
   "cell_type": "code",
   "execution_count": 19,
   "metadata": {},
   "outputs": [
    {
     "data": {
      "text/plain": [
       "82.0"
      ]
     },
     "execution_count": 19,
     "metadata": {},
     "output_type": "execute_result"
    }
   ],
   "source": [
    "def promedio(values):\n",
    "  total = sum(values)\n",
    "  return total / len(values)\n",
    "\n",
    "promedio([80,85,81])"
   ]
  },
  {
   "cell_type": "code",
   "execution_count": 27,
   "metadata": {},
   "outputs": [
    {
     "name": "stdout",
     "output_type": "stream",
     "text": [
      "Reporte Completo:\n",
      "    ------------------------------\n",
      "    Total de tanques: 78.0%\n",
      "    Tanque 1: 88%\n",
      "    Tanque 2: 76%\n",
      "    Tanque 3: 70%\n",
      "    ------------------------------\n"
     ]
    }
   ],
   "source": [
    "def total_T(T1,T2,T3):\n",
    "    return f\"\"\"Reporte Completo:\n",
    "    {'-'*30}\n",
    "    Total de tanques: {promedio([T1,T2,T3])}%\n",
    "    Tanque 1: {T1}%\n",
    "    Tanque 2: {T2}%\n",
    "    Tanque 3: {T3}%\n",
    "    {'-'*30}\"\"\"\n",
    "    \n",
    "print(total_T(88, 76, 70))\n"
   ]
  },
  {
   "cell_type": "markdown",
   "metadata": {},
   "source": [
    "# Ejercicio 2:"
   ]
  },
  {
   "cell_type": "markdown",
   "metadata": {},
   "source": [
    " Función con un informe preciso de la misión. Considera hora de prelanzamiento, tiempo de vuelo, destino, tanque externo y tanque interno"
   ]
  },
  {
   "cell_type": "code",
   "execution_count": 33,
   "metadata": {},
   "outputs": [
    {
     "name": "stdout",
     "output_type": "stream",
     "text": [
      "Reporte de la misión: \n",
      "    //////////////////////////////////////////////////\n",
      "    Mision a: Moon\n",
      "    Tiempo total de viaje:65 minutes\n",
      "    Combustible total restante:500000 galones\n",
      "     //////////////////////////////////////////////////\n",
      "    \n"
     ]
    }
   ],
   "source": [
    "def reporte_Mission(prelazamiento,tiempoV,destino,tanE,tanI):\n",
    "    return f\"\"\"Reporte de la misión: \n",
    "    {'/'*50}\n",
    "    Mision a: {destino}\n",
    "    Tiempo total de viaje:{prelazamiento+tiempoV} minutes\n",
    "    Combustible total restante:{tanE+tanI} galones\n",
    "     {'/'*50}\n",
    "    \"\"\"\n",
    "print(reporte_Mission(14, 51, \"Moon\", 200000, 300000))"
   ]
  },
  {
   "cell_type": "code",
   "execution_count": 38,
   "metadata": {},
   "outputs": [
    {
     "name": "stdout",
     "output_type": "stream",
     "text": [
      "\n",
      "    Misión a: Moon\n",
      "     //////////////////////////////////////////////////\n",
      "   Tiempo total de viaje: 76 minutes\n",
      "    Combustible total restante: 500000\n",
      "     //////////////////////////////////////////////////\n",
      "    \n"
     ]
    }
   ],
   "source": [
    "# Escribe tu nueva función de reporte considerando lo anterior\n",
    "def reporte_Mission2(destino, *minutes, **fuel_reservoirs):\n",
    "    return f\"\"\"\n",
    "    Misión a: {destino}\n",
    "     {'/'*50}\n",
    "   Tiempo total de viaje: {sum(minutes)} minutes\n",
    "    Combustible total restante: {sum(fuel_reservoirs.values())}\n",
    "     {'/'*50}\n",
    "    \"\"\"\n",
    "print(reporte_Mission2(\"Moon\", 10, 15, 51, main=300000, external=200000))"
   ]
  }
 ],
 "metadata": {
  "interpreter": {
   "hash": "aaa2d32309aa7ce0f397d0e81903e050bd163767a22d0d109bd73d79b6cf4dfe"
  },
  "kernelspec": {
   "display_name": "Python 3.10.2 64-bit",
   "language": "python",
   "name": "python3"
  },
  "language_info": {
   "codemirror_mode": {
    "name": "ipython",
    "version": 3
   },
   "file_extension": ".py",
   "mimetype": "text/x-python",
   "name": "python",
   "nbconvert_exporter": "python",
   "pygments_lexer": "ipython3",
   "version": "3.10.2"
  },
  "orig_nbformat": 4
 },
 "nbformat": 4,
 "nbformat_minor": 2
}
