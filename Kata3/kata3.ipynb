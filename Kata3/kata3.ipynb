{
 "cells": [
  {
   "cell_type": "markdown",
   "metadata": {},
   "source": []
  },
  {
   "cell_type": "markdown",
   "metadata": {},
   "source": [
    "Un asteroide se acerca, y viaja a una velocidad de 49 km/s.\n"
   ]
  },
  {
   "cell_type": "code",
   "execution_count": 6,
   "metadata": {},
   "outputs": [
    {
     "name": "stdout",
     "output_type": "stream",
     "text": [
      "ALERTA : El asteroide se  acerca demaciado a la tierra Cuidado\n"
     ]
    }
   ],
   "source": [
    "velocidad = 49\n",
    "if velocidad >25:\n",
    "   print (\"ALERTA : El asteroide se  acerca demaciado a la tierra Cuidado\")\n",
    "else :\n",
    "  print(\"Todo en orden\")"
   ]
  },
  {
   "cell_type": "markdown",
   "metadata": {},
   "source": [
    "Si un asteroide entra en la atmósfera de la Tierra a una velocidad mayor o igual a 20 km/s, a veces produce un rayo de luz que se puede ver desde la Tierra. Escribe la lógica condicional que usa declaraciones if, else, y elif para alertar a las personas de todo el mundo que deben buscar un asteroide en el cielo. ¡Hay uno que se dirige a la tierra ahora a una velocidad de 19 km/s!"
   ]
  },
  {
   "cell_type": "code",
   "execution_count": 10,
   "metadata": {},
   "outputs": [
    {
     "name": "stdout",
     "output_type": "stream",
     "text": [
      "Todo en orden\n"
     ]
    }
   ],
   "source": [
    "velocidad = 19\n",
    "\n",
    "if velocidad >=20:\n",
    "    print(\"Alerta: Mira hacia el cielo para ver el rayo de luz del asteroide\")\n",
    "else: \n",
    "    print(\"Todo en orden\")\n"
   ]
  },
  {
   "cell_type": "markdown",
   "metadata": {},
   "source": [
    "Ejercicio: Uso de operadores and y or"
   ]
  },
  {
   "cell_type": "code",
   "execution_count": 19,
   "metadata": {},
   "outputs": [
    {
     "name": "stdout",
     "output_type": "stream",
     "text": [
      "Alerta: Mira hacia el cielo para ver el rayo de luz del asteroide\n"
     ]
    }
   ],
   "source": [
    "velocidad = 21\n",
    "tamaño = 10\n",
    "if tamaño >25 and velocidad >25:\n",
    "    print(\"ALERTA : El asteroide se  acerca demaciado a la tierra Cuidado\")\n",
    "elif  velocidad >=20:\n",
    "    print(\"Alerta: Mira hacia el cielo para ver el rayo de luz del asteroide\")\n",
    "elif tamaño < 25:\n",
    "    print(\"Todo en orden\")\n",
    "else: print(\"Todo en orden\")"
   ]
  }
 ],
 "metadata": {
  "interpreter": {
   "hash": "aaa2d32309aa7ce0f397d0e81903e050bd163767a22d0d109bd73d79b6cf4dfe"
  },
  "kernelspec": {
   "display_name": "Python 3.10.2 64-bit",
   "language": "python",
   "name": "python3"
  },
  "language_info": {
   "codemirror_mode": {
    "name": "ipython",
    "version": 3
   },
   "file_extension": ".py",
   "mimetype": "text/x-python",
   "name": "python",
   "nbconvert_exporter": "python",
   "pygments_lexer": "ipython3",
   "version": "3.10.2"
  },
  "orig_nbformat": 4
 },
 "nbformat": 4,
 "nbformat_minor": 2
}
